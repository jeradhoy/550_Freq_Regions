{
 "cells": [
  {
   "cell_type": "code",
   "execution_count": 166,
   "metadata": {},
   "outputs": [],
   "source": [
    "import pickle\n",
    "import pandas as pd\n",
    "import numpy as np\n",
    "from sklearn.cluster import KMeans\n",
    "from sklearn.cluster import AgglomerativeClustering\n",
    "from sklearn import metrics"
   ]
  },
  {
   "cell_type": "markdown",
   "metadata": {},
   "source": [
    "## Read data (top 1000 and 200 FRs, FRS, phenotype bins, strain order)"
   ]
  },
  {
   "cell_type": "code",
   "execution_count": 122,
   "metadata": {},
   "outputs": [],
   "source": [
    "top1000 = pd.read_csv(\"../../data/100YeastGenomesCombinedHardMasked.gtet300bps.k300.graph.dot-100YeastGenomesCombinedHardMasked.gtet300bps.fna-a0.8-kp0-sup5-sz1-limit1000.topfrs.txt\", header = None)\n",
    "top1000int = [int(top) for top in top1000[0].values]\n",
    "top200 = pd.read_csv(\"../../data/100YeastGenomesCombinedHardMasked.gtet300bps.k300.graph.dot-100YeastGenomesCombinedHardMasked.gtet300bps.fna-a0.8-kp0-sup5-sz1-limit200.topfrs.txt\", header = None)\n",
    "top200int = [int(top) for top in top200[0].values]\n",
    "\n",
    "file = open(\"frDf.pkl\",'rb')\n",
    "frdf = pickle.load(file)\n",
    "file.close()\n",
    "\n",
    "file = open(\"clust_memb-include_strain.pkl\",'rb')\n",
    "pheno_clusts = pickle.load(file)\n",
    "file.close()\n",
    "\n",
    "pheno = pd.read_csv(\"../../data/phenotypes-cleaned.tsv\",delimiter=\"\\t\")\n",
    "strain_order = [x.lower() for x in pheno['strain']]\n",
    "strain_order = [x for x in strain_order if x in frdf.index]\n",
    "\n",
    "origins = pd.read_csv('origins.csv')\n",
    "\n",
    "frdf200 = frdf[top200int]\n",
    "frdf1000 = frdf[top1000int]\n",
    "\n",
    "data = frdf200"
   ]
  },
  {
   "cell_type": "code",
   "execution_count": 123,
   "metadata": {},
   "outputs": [],
   "source": [
    "frdf_strains = data.index.values\n",
    "\n",
    "groundtruth_bins = pheno_clusts[0]\n",
    "groundtruth_exclusions = pheno_clusts[1]\n",
    "\n",
    "data = data.reindex(strain_order)"
   ]
  },
  {
   "cell_type": "code",
   "execution_count": 125,
   "metadata": {},
   "outputs": [],
   "source": [
    "names = [\"K-Means\", \"Agglomerative\"]"
   ]
  },
  {
   "cell_type": "code",
   "execution_count": 196,
   "metadata": {},
   "outputs": [],
   "source": [
    "rows = []\n",
    "for (idx, column) in enumerate(pheno.drop('strain', axis=1)):\n",
    "    bins = groundtruth_bins[idx][0:95] # drop last 5 of bins because those strains are not in frdf\n",
    "    exclusions = (groundtruth_exclusions[idx] == False)[:95] # same as above\n",
    "    bad_indices = np.where(exclusions == False)[0]\n",
    "    bins_after_exclusions = [bins[i] for i in range(len(bins)) if i not in bad_indices]\n",
    "    n_clusters = len(set(bins))\n",
    "    X = data[exclusions]\n",
    "    if n_clusters == 1:\n",
    "        continue\n",
    "    models = [\n",
    "        KMeans(n_clusters=n_clusters, random_state=0).fit(X),\n",
    "        AgglomerativeClustering(n_clusters=n_clusters).fit(X)\n",
    "        ]\n",
    "    for name, model in zip(names, models):\n",
    "        silhouette_score = metrics.silhouette_score(X, model.labels_, metric='euclidean')\n",
    "        nmi = metrics.cluster.normalized_mutual_info_score(bins_after_exclusions, model.labels_)\n",
    "        rows.append([column, name, silhouette_score, nmi])"
   ]
  },
  {
   "cell_type": "code",
   "execution_count": 198,
   "metadata": {},
   "outputs": [],
   "source": [
    "results_df = pd.DataFrame(rows, columns = ['Phenotype', 'Clustering_Alg', 'Silhouette_Coef', 'NMI'])"
   ]
  },
  {
   "cell_type": "code",
   "execution_count": 203,
   "metadata": {},
   "outputs": [
    {
     "data": {
      "text/html": [
       "<div>\n",
       "<style scoped>\n",
       "    .dataframe tbody tr th:only-of-type {\n",
       "        vertical-align: middle;\n",
       "    }\n",
       "\n",
       "    .dataframe tbody tr th {\n",
       "        vertical-align: top;\n",
       "    }\n",
       "\n",
       "    .dataframe thead th {\n",
       "        text-align: right;\n",
       "    }\n",
       "</style>\n",
       "<table border=\"1\" class=\"dataframe\">\n",
       "  <thead>\n",
       "    <tr style=\"text-align: right;\">\n",
       "      <th></th>\n",
       "      <th>Phenotype</th>\n",
       "      <th>Clustering_Alg</th>\n",
       "      <th>Silhouette_Coef</th>\n",
       "      <th>NMI</th>\n",
       "    </tr>\n",
       "  </thead>\n",
       "  <tbody>\n",
       "    <tr>\n",
       "      <th>34</th>\n",
       "      <td>sporulation-%4-spored,_liquid_KAc25C.txt</td>\n",
       "      <td>K-Means</td>\n",
       "      <td>0.351493</td>\n",
       "      <td>0.201327</td>\n",
       "    </tr>\n",
       "    <tr>\n",
       "      <th>35</th>\n",
       "      <td>sporulation-%4-spored,_liquid_KAc25C.txt</td>\n",
       "      <td>Agglomerative</td>\n",
       "      <td>0.313418</td>\n",
       "      <td>0.229832</td>\n",
       "    </tr>\n",
       "    <tr>\n",
       "      <th>38</th>\n",
       "      <td>sporulation-%sporulation,_KAc_plates_25C.txt</td>\n",
       "      <td>K-Means</td>\n",
       "      <td>0.289513</td>\n",
       "      <td>0.178657</td>\n",
       "    </tr>\n",
       "    <tr>\n",
       "      <th>39</th>\n",
       "      <td>sporulation-%sporulation,_KAc_plates_25C.txt</td>\n",
       "      <td>Agglomerative</td>\n",
       "      <td>0.269182</td>\n",
       "      <td>0.194917</td>\n",
       "    </tr>\n",
       "    <tr>\n",
       "      <th>56</th>\n",
       "      <td>temperature-sd_39C</td>\n",
       "      <td>K-Means</td>\n",
       "      <td>0.309548</td>\n",
       "      <td>0.174903</td>\n",
       "    </tr>\n",
       "    <tr>\n",
       "      <th>57</th>\n",
       "      <td>temperature-sd_39C</td>\n",
       "      <td>Agglomerative</td>\n",
       "      <td>0.311276</td>\n",
       "      <td>0.174130</td>\n",
       "    </tr>\n",
       "  </tbody>\n",
       "</table>\n",
       "</div>"
      ],
      "text/plain": [
       "                                       Phenotype Clustering_Alg  \\\n",
       "34      sporulation-%4-spored,_liquid_KAc25C.txt        K-Means   \n",
       "35      sporulation-%4-spored,_liquid_KAc25C.txt  Agglomerative   \n",
       "38  sporulation-%sporulation,_KAc_plates_25C.txt        K-Means   \n",
       "39  sporulation-%sporulation,_KAc_plates_25C.txt  Agglomerative   \n",
       "56                            temperature-sd_39C        K-Means   \n",
       "57                            temperature-sd_39C  Agglomerative   \n",
       "\n",
       "    Silhouette_Coef       NMI  \n",
       "34         0.351493  0.201327  \n",
       "35         0.313418  0.229832  \n",
       "38         0.289513  0.178657  \n",
       "39         0.269182  0.194917  \n",
       "56         0.309548  0.174903  \n",
       "57         0.311276  0.174130  "
      ]
     },
     "execution_count": 203,
     "metadata": {},
     "output_type": "execute_result"
    }
   ],
   "source": [
    "results_df[results_df['NMI'] > 0.15]"
   ]
  }
 ],
 "metadata": {
  "kernelspec": {
   "display_name": "Python 3",
   "language": "python",
   "name": "python3"
  },
  "language_info": {
   "codemirror_mode": {
    "name": "ipython",
    "version": 3
   },
   "file_extension": ".py",
   "mimetype": "text/x-python",
   "name": "python",
   "nbconvert_exporter": "python",
   "pygments_lexer": "ipython3",
   "version": "3.6.5"
  }
 },
 "nbformat": 4,
 "nbformat_minor": 2
}

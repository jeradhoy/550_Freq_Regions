{
 "cells": [
  {
   "cell_type": "code",
   "execution_count": 1,
   "metadata": {},
   "outputs": [],
   "source": [
    "import pandas as pd"
   ]
  },
  {
   "cell_type": "markdown",
   "metadata": {},
   "source": [
    "# Constructing our matrix of frequented Regions by strain"
   ]
  },
  {
   "cell_type": "code",
   "execution_count": 58,
   "metadata": {},
   "outputs": [],
   "source": [
    "rawDf = pd.read_csv(\"../../data/100YeastGenomesCombinedHardMasked.gtet300bps.k300.graph.dot-100YeastGenomesCombinedHardMasked.gtet300bps.fna-a0.8-kp0-sup5-sz1.bed\", delimiter=\"\\t\", header=None)\n",
    "#rawDf = rawDf[[0,3]]"
   ]
  },
  {
   "cell_type": "code",
   "execution_count": 59,
   "metadata": {},
   "outputs": [
    {
     "data": {
      "text/plain": [
       "(11273908, 10)"
      ]
     },
     "execution_count": 59,
     "metadata": {},
     "output_type": "execute_result"
    }
   ],
   "source": [
    "rawDf.shape"
   ]
  },
  {
   "cell_type": "code",
   "execution_count": 60,
   "metadata": {},
   "outputs": [],
   "source": [
    "seqText = rawDf[0].values"
   ]
  },
  {
   "cell_type": "code",
   "execution_count": 61,
   "metadata": {},
   "outputs": [],
   "source": [
    "textSplitLen = [len(text.split()) for text in seqText]"
   ]
  },
  {
   "cell_type": "code",
   "execution_count": null,
   "metadata": {},
   "outputs": [],
   "source": [
    "textSplit = [text.split() for text in seqText]"
   ]
  },
  {
   "cell_type": "raw",
   "metadata": {},
   "source": [
    "len(set(textSplit))"
   ]
  },
  {
   "cell_type": "raw",
   "metadata": {},
   "source": [
    "textSplit[(textSplitLen.index(1)-10):(textSplitLen.index(1)+10)]"
   ]
  },
  {
   "cell_type": "code",
   "execution_count": null,
   "metadata": {},
   "outputs": [],
   "source": [
    "strain = []\n",
    "for text in textSplit:\n",
    "    if len(text) == 1:\n",
    "        strain.append(text[0].split(\".\")[0])\n",
    "    else:\n",
    "        #strain.append(text[text.index(\"cerevisiae\") + 1])\n",
    "        strainName = text[text.index(\"cerevisiae\") + 1]\n",
    "        strain.append(strainName.split(\"-\")[0])"
   ]
  },
  {
   "cell_type": "code",
   "execution_count": null,
   "metadata": {},
   "outputs": [],
   "source": [
    "strainLower = [text.lower() for text in strain]"
   ]
  },
  {
   "cell_type": "code",
   "execution_count": null,
   "metadata": {},
   "outputs": [],
   "source": [
    "frNums = [int(text.split(\"-\")[1]) for text in rawDf[3].values]"
   ]
  },
  {
   "cell_type": "code",
   "execution_count": null,
   "metadata": {},
   "outputs": [],
   "source": [
    "df = pd.DataFrame({\"Strain\": strainLower, \"FrNum\": frNums})"
   ]
  },
  {
   "cell_type": "code",
   "execution_count": null,
   "metadata": {},
   "outputs": [],
   "source": [
    "len(set(frNums))"
   ]
  },
  {
   "cell_type": "code",
   "execution_count": 53,
   "metadata": {},
   "outputs": [],
   "source": [
    "dfMeow = df.groupby(df.columns.tolist(),as_index=False).size().reset_index(name = 'counts')"
   ]
  },
  {
   "cell_type": "code",
   "execution_count": 54,
   "metadata": {},
   "outputs": [],
   "source": [
    "dfPivot = dfMeow.pivot(index = \"Strain\", columns = \"FrNum\", values=\"counts\").fillna(0)\n"
   ]
  },
  {
   "cell_type": "code",
   "execution_count": 55,
   "metadata": {},
   "outputs": [
    {
     "data": {
      "text/plain": [
       "Int64Index([   0,    1,    2,    3,    4,    5,    6,    7,    8,    9,\n",
       "            ...\n",
       "            5220, 5221, 5222, 5223, 5224, 5225, 5226, 5227, 5228, 5229],\n",
       "           dtype='int64', name='FrNum', length=5230)"
      ]
     },
     "execution_count": 55,
     "metadata": {},
     "output_type": "execute_result"
    }
   ],
   "source": [
    "dfPivot.columns"
   ]
  },
  {
   "cell_type": "code",
   "execution_count": 56,
   "metadata": {},
   "outputs": [
    {
     "data": {
      "text/html": [
       "<div>\n",
       "<style scoped>\n",
       "    .dataframe tbody tr th:only-of-type {\n",
       "        vertical-align: middle;\n",
       "    }\n",
       "\n",
       "    .dataframe tbody tr th {\n",
       "        vertical-align: top;\n",
       "    }\n",
       "\n",
       "    .dataframe thead th {\n",
       "        text-align: right;\n",
       "    }\n",
       "</style>\n",
       "<table border=\"1\" class=\"dataframe\">\n",
       "  <thead>\n",
       "    <tr style=\"text-align: right;\">\n",
       "      <th>FrNum</th>\n",
       "      <th>0</th>\n",
       "      <th>1</th>\n",
       "      <th>2</th>\n",
       "      <th>3</th>\n",
       "      <th>4</th>\n",
       "      <th>5</th>\n",
       "      <th>6</th>\n",
       "      <th>7</th>\n",
       "      <th>8</th>\n",
       "      <th>9</th>\n",
       "      <th>...</th>\n",
       "      <th>5220</th>\n",
       "      <th>5221</th>\n",
       "      <th>5222</th>\n",
       "      <th>5223</th>\n",
       "      <th>5224</th>\n",
       "      <th>5225</th>\n",
       "      <th>5226</th>\n",
       "      <th>5227</th>\n",
       "      <th>5228</th>\n",
       "      <th>5229</th>\n",
       "    </tr>\n",
       "    <tr>\n",
       "      <th>Strain</th>\n",
       "      <th></th>\n",
       "      <th></th>\n",
       "      <th></th>\n",
       "      <th></th>\n",
       "      <th></th>\n",
       "      <th></th>\n",
       "      <th></th>\n",
       "      <th></th>\n",
       "      <th></th>\n",
       "      <th></th>\n",
       "      <th></th>\n",
       "      <th></th>\n",
       "      <th></th>\n",
       "      <th></th>\n",
       "      <th></th>\n",
       "      <th></th>\n",
       "      <th></th>\n",
       "      <th></th>\n",
       "      <th></th>\n",
       "      <th></th>\n",
       "      <th></th>\n",
       "    </tr>\n",
       "  </thead>\n",
       "  <tbody>\n",
       "    <tr>\n",
       "      <th>m22</th>\n",
       "      <td>22.0</td>\n",
       "      <td>21.0</td>\n",
       "      <td>20.0</td>\n",
       "      <td>20.0</td>\n",
       "      <td>20.0</td>\n",
       "      <td>19.0</td>\n",
       "      <td>19.0</td>\n",
       "      <td>22.0</td>\n",
       "      <td>18.0</td>\n",
       "      <td>21.0</td>\n",
       "      <td>...</td>\n",
       "      <td>1.0</td>\n",
       "      <td>0.0</td>\n",
       "      <td>1.0</td>\n",
       "      <td>0.0</td>\n",
       "      <td>0.0</td>\n",
       "      <td>0.0</td>\n",
       "      <td>0.0</td>\n",
       "      <td>0.0</td>\n",
       "      <td>1.0</td>\n",
       "      <td>0.0</td>\n",
       "    </tr>\n",
       "    <tr>\n",
       "      <th>rm11</th>\n",
       "      <td>2.0</td>\n",
       "      <td>2.0</td>\n",
       "      <td>2.0</td>\n",
       "      <td>2.0</td>\n",
       "      <td>2.0</td>\n",
       "      <td>2.0</td>\n",
       "      <td>2.0</td>\n",
       "      <td>2.0</td>\n",
       "      <td>2.0</td>\n",
       "      <td>2.0</td>\n",
       "      <td>...</td>\n",
       "      <td>1.0</td>\n",
       "      <td>1.0</td>\n",
       "      <td>1.0</td>\n",
       "      <td>0.0</td>\n",
       "      <td>1.0</td>\n",
       "      <td>0.0</td>\n",
       "      <td>1.0</td>\n",
       "      <td>1.0</td>\n",
       "      <td>1.0</td>\n",
       "      <td>1.0</td>\n",
       "    </tr>\n",
       "    <tr>\n",
       "      <th>s288c</th>\n",
       "      <td>3.0</td>\n",
       "      <td>3.0</td>\n",
       "      <td>3.0</td>\n",
       "      <td>3.0</td>\n",
       "      <td>3.0</td>\n",
       "      <td>3.0</td>\n",
       "      <td>3.0</td>\n",
       "      <td>3.0</td>\n",
       "      <td>3.0</td>\n",
       "      <td>3.0</td>\n",
       "      <td>...</td>\n",
       "      <td>0.0</td>\n",
       "      <td>1.0</td>\n",
       "      <td>1.0</td>\n",
       "      <td>1.0</td>\n",
       "      <td>1.0</td>\n",
       "      <td>1.0</td>\n",
       "      <td>1.0</td>\n",
       "      <td>1.0</td>\n",
       "      <td>1.0</td>\n",
       "      <td>0.0</td>\n",
       "    </tr>\n",
       "    <tr>\n",
       "      <th>sigma1278b</th>\n",
       "      <td>5.0</td>\n",
       "      <td>5.0</td>\n",
       "      <td>5.0</td>\n",
       "      <td>5.0</td>\n",
       "      <td>5.0</td>\n",
       "      <td>5.0</td>\n",
       "      <td>5.0</td>\n",
       "      <td>5.0</td>\n",
       "      <td>5.0</td>\n",
       "      <td>5.0</td>\n",
       "      <td>...</td>\n",
       "      <td>1.0</td>\n",
       "      <td>1.0</td>\n",
       "      <td>1.0</td>\n",
       "      <td>1.0</td>\n",
       "      <td>1.0</td>\n",
       "      <td>1.0</td>\n",
       "      <td>1.0</td>\n",
       "      <td>1.0</td>\n",
       "      <td>1.0</td>\n",
       "      <td>0.0</td>\n",
       "    </tr>\n",
       "    <tr>\n",
       "      <th>sk1</th>\n",
       "      <td>3.0</td>\n",
       "      <td>3.0</td>\n",
       "      <td>3.0</td>\n",
       "      <td>3.0</td>\n",
       "      <td>3.0</td>\n",
       "      <td>3.0</td>\n",
       "      <td>3.0</td>\n",
       "      <td>3.0</td>\n",
       "      <td>3.0</td>\n",
       "      <td>3.0</td>\n",
       "      <td>...</td>\n",
       "      <td>1.0</td>\n",
       "      <td>1.0</td>\n",
       "      <td>1.0</td>\n",
       "      <td>1.0</td>\n",
       "      <td>1.0</td>\n",
       "      <td>0.0</td>\n",
       "      <td>1.0</td>\n",
       "      <td>1.0</td>\n",
       "      <td>1.0</td>\n",
       "      <td>0.0</td>\n",
       "    </tr>\n",
       "  </tbody>\n",
       "</table>\n",
       "<p>5 rows × 5230 columns</p>\n",
       "</div>"
      ],
      "text/plain": [
       "FrNum       0     1     2     3     4     5     6     7     8     9     ...   \\\n",
       "Strain                                                                  ...    \n",
       "m22         22.0  21.0  20.0  20.0  20.0  19.0  19.0  22.0  18.0  21.0  ...    \n",
       "rm11         2.0   2.0   2.0   2.0   2.0   2.0   2.0   2.0   2.0   2.0  ...    \n",
       "s288c        3.0   3.0   3.0   3.0   3.0   3.0   3.0   3.0   3.0   3.0  ...    \n",
       "sigma1278b   5.0   5.0   5.0   5.0   5.0   5.0   5.0   5.0   5.0   5.0  ...    \n",
       "sk1          3.0   3.0   3.0   3.0   3.0   3.0   3.0   3.0   3.0   3.0  ...    \n",
       "\n",
       "FrNum       5220  5221  5222  5223  5224  5225  5226  5227  5228  5229  \n",
       "Strain                                                                  \n",
       "m22          1.0   0.0   1.0   0.0   0.0   0.0   0.0   0.0   1.0   0.0  \n",
       "rm11         1.0   1.0   1.0   0.0   1.0   0.0   1.0   1.0   1.0   1.0  \n",
       "s288c        0.0   1.0   1.0   1.0   1.0   1.0   1.0   1.0   1.0   0.0  \n",
       "sigma1278b   1.0   1.0   1.0   1.0   1.0   1.0   1.0   1.0   1.0   0.0  \n",
       "sk1          1.0   1.0   1.0   1.0   1.0   0.0   1.0   1.0   1.0   0.0  \n",
       "\n",
       "[5 rows x 5230 columns]"
      ]
     },
     "execution_count": 56,
     "metadata": {},
     "output_type": "execute_result"
    }
   ],
   "source": [
    "dfPivot.head()"
   ]
  },
  {
   "cell_type": "markdown",
   "metadata": {},
   "source": [
    "## Read in top FRs"
   ]
  },
  {
   "cell_type": "code",
   "execution_count": 5,
   "metadata": {},
   "outputs": [],
   "source": [
    "top1000 = pd.read_csv(\"../../data/100YeastGenomesCombinedHardMasked.gtet300bps.k300.graph.dot-100YeastGenomesCombinedHardMasked.gtet300bps.fna-a0.8-kp0-sup5-sz1-limit1000.topfrs.txt\", header = None)\n",
    "top1000int = [int(top) for top in top1000[0].values]"
   ]
  },
  {
   "cell_type": "code",
   "execution_count": 6,
   "metadata": {},
   "outputs": [],
   "source": [
    "top200 = pd.read_csv(\"../../data/100YeastGenomesCombinedHardMasked.gtet300bps.k300.graph.dot-100YeastGenomesCombinedHardMasked.gtet300bps.fna-a0.8-kp0-sup5-sz1-limit200.topfrs.txt\", header = None)\n",
    "top200int = [int(top) for top in top200[0].values]"
   ]
  },
  {
   "cell_type": "markdown",
   "metadata": {},
   "source": [
    "## Exploratory Data Analysis"
   ]
  },
  {
   "cell_type": "code",
   "execution_count": 3,
   "metadata": {},
   "outputs": [],
   "source": [
    "from sklearn.cluster import KMeans\n",
    "import matplotlib.pyplot as plt"
   ]
  },
  {
   "cell_type": "code",
   "execution_count": 8,
   "metadata": {},
   "outputs": [
    {
     "ename": "NameError",
     "evalue": "name 'dfPivot' is not defined",
     "output_type": "error",
     "traceback": [
      "\u001b[0;31m---------------------------------------------------------------------------\u001b[0m",
      "\u001b[0;31mNameError\u001b[0m                                 Traceback (most recent call last)",
      "\u001b[0;32m<ipython-input-8-4fec04185471>\u001b[0m in \u001b[0;36m<module>\u001b[0;34m()\u001b[0m\n\u001b[0;32m----> 1\u001b[0;31m \u001b[0my_pred\u001b[0m \u001b[0;34m=\u001b[0m \u001b[0mKMeans\u001b[0m\u001b[0;34m(\u001b[0m\u001b[0mn_clusters\u001b[0m\u001b[0;34m=\u001b[0m\u001b[0;36m2\u001b[0m\u001b[0;34m,\u001b[0m \u001b[0mrandom_state\u001b[0m\u001b[0;34m=\u001b[0m\u001b[0;36m0\u001b[0m\u001b[0;34m)\u001b[0m\u001b[0;34m.\u001b[0m\u001b[0mfit_predict\u001b[0m\u001b[0;34m(\u001b[0m\u001b[0mdfPivot\u001b[0m\u001b[0;34m)\u001b[0m\u001b[0;34m\u001b[0m\u001b[0m\n\u001b[0m",
      "\u001b[0;31mNameError\u001b[0m: name 'dfPivot' is not defined"
     ]
    }
   ],
   "source": [
    "y_pred = KMeans(n_clusters=2, random_state=0).fit_predict(dfPivot)"
   ]
  },
  {
   "cell_type": "code",
   "execution_count": 21,
   "metadata": {},
   "outputs": [
    {
     "data": {
      "text/plain": [
       "array([1, 1, 1, 1, 1, 1, 1, 0, 1, 0, 1, 1, 0, 1, 0, 1, 1, 1, 1, 1, 0, 1, 1,\n",
       "       1, 0, 1, 1, 1, 0, 1, 1, 1, 0, 1, 0, 1, 1, 1, 1, 1, 1, 0, 0, 1, 0, 1,\n",
       "       1, 0, 1, 1, 1, 0, 0, 0, 1, 1, 1, 1, 0, 0, 1, 1, 1, 1, 1, 0, 0, 0, 1,\n",
       "       1, 0, 0, 1, 1, 1, 1, 0, 1, 1, 0, 0, 0, 1, 1, 1, 1, 1, 0, 1, 1, 0, 1,\n",
       "       1, 0, 0, 0, 1, 1, 0, 1], dtype=int32)"
      ]
     },
     "execution_count": 21,
     "metadata": {},
     "output_type": "execute_result"
    }
   ],
   "source": [
    "y_pred"
   ]
  },
  {
   "cell_type": "code",
   "execution_count": null,
   "metadata": {},
   "outputs": [],
   "source": []
  },
  {
   "cell_type": "code",
   "execution_count": 22,
   "metadata": {},
   "outputs": [],
   "source": [
    "from sklearn.decomposition import PCA\n",
    "pca = PCA(n_components=2)\n",
    "pca.fit(dfPivot)\n",
    "print(pca.explained_variance_ratio_)\n",
    "print(pca.components_)\n",
    "X = dfPivot\n",
    "X_pca = pca.transform(dfPivot)\n",
    "#X_new = pca.inverse_transform(X_pca)\n",
    "#plt.scatter(X[:, 0], X[:, 1], alpha=0.2)\n",
    "plt.scatter(X_pca[:, 0], X_pca[:, 1], alpha=0.8, c=y_pred)\n",
    "plt.axis('equal');\n",
    "plt.hist(pca.components_[0])"
   ]
  },
  {
   "cell_type": "markdown",
   "metadata": {},
   "source": [
    "## Load frdf and origin data and cluster on 1000 FRs"
   ]
  },
  {
   "cell_type": "code",
   "execution_count": 4,
   "metadata": {},
   "outputs": [],
   "source": [
    "import pickle\n",
    "import pandas as pd"
   ]
  },
  {
   "cell_type": "code",
   "execution_count": 31,
   "metadata": {},
   "outputs": [],
   "source": [
    "file = open(\"frDf.pkl\",'rb')\n",
    "frdf = pickle.load(file)\n",
    "frdf.reset_index(inplace=True)\n",
    "frdf.rename(index=str, columns={'Strain': 'strain'}, inplace=True)\n",
    "file.close()\n",
    "\n",
    "origins = pd.read_csv('origins.csv')"
   ]
  },
  {
   "cell_type": "code",
   "execution_count": 33,
   "metadata": {},
   "outputs": [],
   "source": [
    "origins['strain'] = [x.lower() for x in origins['strain']]"
   ]
  },
  {
   "cell_type": "code",
   "execution_count": 34,
   "metadata": {},
   "outputs": [],
   "source": [
    "frdf200 = frdf[top200int]\n",
    "frdf1000 = frdf[top1000int]"
   ]
  },
  {
   "cell_type": "code",
   "execution_count": 40,
   "metadata": {},
   "outputs": [],
   "source": [
    "data = origins.join(frdf200, on='strain' , how='outer')"
   ]
  },
  {
   "cell_type": "code",
   "execution_count": 11,
   "metadata": {},
   "outputs": [],
   "source": [
    "# data['combined'] = [x if x in ['Mosaic', 'Wine/European'] else 'Other' for x in data['Origin60']]"
   ]
  },
  {
   "cell_type": "code",
   "execution_count": 12,
   "metadata": {},
   "outputs": [],
   "source": [
    "#y = data['Origin60']\n",
    "data = frdf200\n",
    "n_clusters = 5\n",
    "X = data[[x for x in data.columns if x not in ['Origin60', 'strain']]]"
   ]
  },
  {
   "cell_type": "code",
   "execution_count": 24,
   "metadata": {},
   "outputs": [],
   "source": [
    "from sklearn.cluster import KMeans\n",
    "from sklearn.cluster import AgglomerativeClustering\n",
    "\n",
    "names = [\"K-Means\", \"Agglomerative\"]\n",
    "models = [\n",
    "    KMeans(n_clusters=n_clusters, random_state=0).fit(X),\n",
    "    AgglomerativeClustering(n_clusters=n_clusters).fit(X)\n",
    "    ]"
   ]
  },
  {
   "cell_type": "code",
   "execution_count": 19,
   "metadata": {},
   "outputs": [
    {
     "name": "stdout",
     "output_type": "stream",
     "text": [
      "The model K-Means has performance blah\n",
      "The model DBSCAN has performance blah\n",
      "The model Agglomerative has performance blah\n"
     ]
    }
   ],
   "source": [
    "predictions = pd.DataFrame({'strain': data.index.values})\n",
    "for name, model in zip(names, models):\n",
    "    predictions_this_model = model.labels_\n",
    "    predictions[name+'predictions'] = predictions_this_model\n",
    "    print('The model {} has performance {}'.format(name,'blah'))"
   ]
  },
  {
   "cell_type": "code",
   "execution_count": 151,
   "metadata": {},
   "outputs": [
    {
     "data": {
      "text/html": [
       "<div>\n",
       "<style scoped>\n",
       "    .dataframe tbody tr th:only-of-type {\n",
       "        vertical-align: middle;\n",
       "    }\n",
       "\n",
       "    .dataframe tbody tr th {\n",
       "        vertical-align: top;\n",
       "    }\n",
       "\n",
       "    .dataframe thead th {\n",
       "        text-align: right;\n",
       "    }\n",
       "</style>\n",
       "<table border=\"1\" class=\"dataframe\">\n",
       "  <thead>\n",
       "    <tr style=\"text-align: right;\">\n",
       "      <th></th>\n",
       "      <th>strain</th>\n",
       "      <th>K-Meanspredictions</th>\n",
       "      <th>DBSCANpredictions</th>\n",
       "      <th>Agglomerativepredictions</th>\n",
       "    </tr>\n",
       "  </thead>\n",
       "  <tbody>\n",
       "    <tr>\n",
       "      <th>0</th>\n",
       "      <td>m22</td>\n",
       "      <td>4</td>\n",
       "      <td>0</td>\n",
       "      <td>2</td>\n",
       "    </tr>\n",
       "    <tr>\n",
       "      <th>1</th>\n",
       "      <td>rm11</td>\n",
       "      <td>4</td>\n",
       "      <td>0</td>\n",
       "      <td>2</td>\n",
       "    </tr>\n",
       "    <tr>\n",
       "      <th>2</th>\n",
       "      <td>s288c</td>\n",
       "      <td>4</td>\n",
       "      <td>0</td>\n",
       "      <td>2</td>\n",
       "    </tr>\n",
       "    <tr>\n",
       "      <th>3</th>\n",
       "      <td>sigma1278b</td>\n",
       "      <td>4</td>\n",
       "      <td>0</td>\n",
       "      <td>2</td>\n",
       "    </tr>\n",
       "    <tr>\n",
       "      <th>4</th>\n",
       "      <td>sk1</td>\n",
       "      <td>4</td>\n",
       "      <td>0</td>\n",
       "      <td>2</td>\n",
       "    </tr>\n",
       "  </tbody>\n",
       "</table>\n",
       "</div>"
      ],
      "text/plain": [
       "       strain  K-Meanspredictions  DBSCANpredictions  Agglomerativepredictions\n",
       "0         m22                   4                  0                         2\n",
       "1        rm11                   4                  0                         2\n",
       "2       s288c                   4                  0                         2\n",
       "3  sigma1278b                   4                  0                         2\n",
       "4         sk1                   4                  0                         2"
      ]
     },
     "execution_count": 151,
     "metadata": {},
     "output_type": "execute_result"
    }
   ],
   "source": [
    "predictions.head()"
   ]
  },
  {
   "cell_type": "code",
   "execution_count": 152,
   "metadata": {},
   "outputs": [
    {
     "data": {
      "text/plain": [
       "<matplotlib.axes._subplots.AxesSubplot at 0x107f55080>"
      ]
     },
     "execution_count": 152,
     "metadata": {},
     "output_type": "execute_result"
    },
    {
     "data": {
      "image/png": "[encoded data removed]",
      "text/plain": [
       "<matplotlib.figure.Figure at 0x107f412b0>"
      ]
     },
     "metadata": {},
     "output_type": "display_data"
    }
   ],
   "source": [
    "predictions['DBSCANpredictions'].hist()"
   ]
  },
  {
   "cell_type": "code",
   "execution_count": 25,
   "metadata": {},
   "outputs": [
    {
     "ename": "NameError",
     "evalue": "name 'y' is not defined",
     "output_type": "error",
     "traceback": [
      "\u001b[0;31m---------------------------------------------------------------------------\u001b[0m",
      "\u001b[0;31mNameError\u001b[0m                                 Traceback (most recent call last)",
      "\u001b[0;32m<ipython-input-25-6e16bafb25f0>\u001b[0m in \u001b[0;36m<module>\u001b[0;34m()\u001b[0m\n\u001b[1;32m      1\u001b[0m \u001b[0;32mfrom\u001b[0m \u001b[0msklearn\u001b[0m\u001b[0;34m.\u001b[0m\u001b[0mmetrics\u001b[0m\u001b[0;34m.\u001b[0m\u001b[0mcluster\u001b[0m \u001b[0;32mimport\u001b[0m \u001b[0mnormalized_mutual_info_score\u001b[0m\u001b[0;34m\u001b[0m\u001b[0m\n\u001b[1;32m      2\u001b[0m \u001b[0;32mfrom\u001b[0m \u001b[0msklearn\u001b[0m\u001b[0;34m.\u001b[0m\u001b[0mmetrics\u001b[0m\u001b[0;34m.\u001b[0m\u001b[0mcluster\u001b[0m \u001b[0;32mimport\u001b[0m \u001b[0mhomogeneity_score\u001b[0m\u001b[0;34m\u001b[0m\u001b[0m\n\u001b[0;32m----> 3\u001b[0;31m \u001b[0mnormalized_mutual_info_score\u001b[0m\u001b[0;34m(\u001b[0m\u001b[0my\u001b[0m\u001b[0;34m,\u001b[0m \u001b[0mdata\u001b[0m\u001b[0;34m[\u001b[0m\u001b[0;34m'predictions'\u001b[0m\u001b[0;34m]\u001b[0m\u001b[0;34m)\u001b[0m\u001b[0;34m\u001b[0m\u001b[0m\n\u001b[0m",
      "\u001b[0;31mNameError\u001b[0m: name 'y' is not defined"
     ]
    }
   ],
   "source": [
    "from sklearn.metrics.cluster import normalized_mutual_info_score\n",
    "from sklearn.metrics.cluster import homogeneity_score\n",
    "normalized_mutual_info_score(y, data['predictions'])"
   ]
  },
  {
   "cell_type": "code",
   "execution_count": 158,
   "metadata": {},
   "outputs": [
    {
     "data": {
      "text/plain": [
       "(98, 200)"
      ]
     },
     "execution_count": 158,
     "metadata": {},
     "output_type": "execute_result"
    }
   ],
   "source": [
    "X.shape"
   ]
  },
  {
   "cell_type": "code",
   "execution_count": 118,
   "metadata": {},
   "outputs": [
    {
     "name": "stdout",
     "output_type": "stream",
     "text": [
      "[ 0.61035079  0.1678951   0.05383448  0.04084667  0.0260698 ]\n"
     ]
    },
    {
     "data": {
      "text/plain": [
       "(array([  20.,    7.,    1.,    0.,   17.,    4.,    7.,   12.,   24.,  108.]),\n",
       " array([-0.00514343,  0.00418179,  0.013507  ,  0.02283221,  0.03215743,\n",
       "         0.04148264,  0.05080786,  0.06013307,  0.06945828,  0.0787835 ,\n",
       "         0.08810871]),\n",
       " <a list of 10 Patch objects>)"
      ]
     },
     "execution_count": 118,
     "metadata": {},
     "output_type": "execute_result"
    },
    {
     "data": {
      "image/png": "[encoded data removed]",
      "text/plain": [
       "<matplotlib.figure.Figure at 0x11997c4e0>"
      ]
     },
     "metadata": {},
     "output_type": "display_data"
    }
   ],
   "source": [
    "from sklearn.decomposition import PCA\n",
    "pca = PCA(n_components=5)\n",
    "pca.fit(X)\n",
    "print(pca.explained_variance_ratio_)\n",
    "X_pca = pca.transform(X)\n",
    "#X_new = pca.inverse_transform(X_pca)\n",
    "#plt.scatter(X[:, 0], X[:, 1], alpha=0.2)\n",
    "plt.scatter(X_pca[:, 0], X_pca[:, 1], alpha=0.8, c=data['predictions'])\n",
    "plt.axis('equal');\n",
    "plt.hist(pca.components_[0])"
   ]
  },
  {
   "cell_type": "code",
   "execution_count": 138,
   "metadata": {},
   "outputs": [],
   "source": [
    "from sklearn import preprocessing\n",
    "le = preprocessing.LabelEncoder()\n",
    "le.fit(y)\n",
    "numeric_origins = le.transform(y)"
   ]
  },
  {
   "cell_type": "code",
   "execution_count": 139,
   "metadata": {},
   "outputs": [
    {
     "data": {
      "text/plain": [
       "(array([  20.,    7.,    1.,    0.,   17.,    4.,    7.,   12.,   24.,  108.]),\n",
       " array([-0.00514343,  0.00418179,  0.013507  ,  0.02283221,  0.03215743,\n",
       "         0.04148264,  0.05080786,  0.06013307,  0.06945828,  0.0787835 ,\n",
       "         0.08810871]),\n",
       " <a list of 10 Patch objects>)"
      ]
     },
     "execution_count": 139,
     "metadata": {},
     "output_type": "execute_result"
    },
    {
     "data": {
      "image/png": "[encoded data removed]",
      "text/plain": [
       "<matplotlib.figure.Figure at 0x11b81ee80>"
      ]
     },
     "metadata": {},
     "output_type": "display_data"
    }
   ],
   "source": [
    "plt.scatter(X_pca[:, 0], X_pca[:, 1], alpha=0.8, c=numeric_origins)\n",
    "plt.axis('equal');\n",
    "plt.hist(pca.components_[0])"
   ]
  },
  {
   "cell_type": "code",
   "execution_count": 140,
   "metadata": {},
   "outputs": [
    {
     "data": {
      "text/plain": [
       "0.28819189759898572"
      ]
     },
     "execution_count": 140,
     "metadata": {},
     "output_type": "execute_result"
    }
   ],
   "source": [
    "from sklearn import metrics\n",
    "metrics.silhouette_score(X, data['predictions'], metric='euclidean')"
   ]
  },
  {
   "cell_type": "code",
   "execution_count": 159,
   "metadata": {},
   "outputs": [
    {
     "data": {
      "text/plain": [
       "<matplotlib.axes._subplots.AxesSubplot at 0x11ba665f8>"
      ]
     },
     "execution_count": 159,
     "metadata": {},
     "output_type": "execute_result"
    },
    {
     "data": {
      "image/png": "[encoded data removed]",
      "text/plain": [
       "<matplotlib.figure.Figure at 0x11ba4d908>"
      ]
     },
     "metadata": {},
     "output_type": "display_data"
    }
   ],
   "source": [
    "origins['Origin60'].value_counts().plot(kind='barh')"
   ]
  },
  {
   "cell_type": "code",
   "execution_count": 162,
   "metadata": {},
   "outputs": [
    {
     "data": {
      "text/html": [
       "<div>\n",
       "<style scoped>\n",
       "    .dataframe tbody tr th:only-of-type {\n",
       "        vertical-align: middle;\n",
       "    }\n",
       "\n",
       "    .dataframe tbody tr th {\n",
       "        vertical-align: top;\n",
       "    }\n",
       "\n",
       "    .dataframe thead th {\n",
       "        text-align: right;\n",
       "    }\n",
       "</style>\n",
       "<table border=\"1\" class=\"dataframe\">\n",
       "  <thead>\n",
       "    <tr style=\"text-align: right;\">\n",
       "      <th></th>\n",
       "      <th>yjm1434</th>\n",
       "      <th>yjm1273</th>\n",
       "      <th>yps163</th>\n",
       "      <th>yjm1447</th>\n",
       "      <th>yjm195</th>\n",
       "      <th>yjm1248</th>\n",
       "      <th>yjm1439</th>\n",
       "      <th>yjm627</th>\n",
       "      <th>sk1</th>\n",
       "      <th>yjm1388</th>\n",
       "      <th>...</th>\n",
       "      <th>yjm1549</th>\n",
       "      <th>yjm1311</th>\n",
       "      <th>yjm693</th>\n",
       "      <th>yjm1199</th>\n",
       "      <th>yjm1338</th>\n",
       "      <th>yjm1527</th>\n",
       "      <th>yjm1399</th>\n",
       "      <th>yjm1326</th>\n",
       "      <th>sigma1278b</th>\n",
       "      <th>s288c</th>\n",
       "    </tr>\n",
       "  </thead>\n",
       "  <tbody>\n",
       "    <tr>\n",
       "      <th>count</th>\n",
       "      <td>200.000000</td>\n",
       "      <td>200.000000</td>\n",
       "      <td>200.000000</td>\n",
       "      <td>200.00000</td>\n",
       "      <td>200.000000</td>\n",
       "      <td>200.000000</td>\n",
       "      <td>200.000000</td>\n",
       "      <td>200.00000</td>\n",
       "      <td>200.000000</td>\n",
       "      <td>200.000000</td>\n",
       "      <td>...</td>\n",
       "      <td>200.000000</td>\n",
       "      <td>200.000000</td>\n",
       "      <td>200.000000</td>\n",
       "      <td>200.000000</td>\n",
       "      <td>200.000000</td>\n",
       "      <td>200.000000</td>\n",
       "      <td>200.00000</td>\n",
       "      <td>200.000000</td>\n",
       "      <td>200.000000</td>\n",
       "      <td>200.000000</td>\n",
       "    </tr>\n",
       "    <tr>\n",
       "      <th>mean</th>\n",
       "      <td>57.310000</td>\n",
       "      <td>59.215000</td>\n",
       "      <td>4.930000</td>\n",
       "      <td>38.88000</td>\n",
       "      <td>82.865000</td>\n",
       "      <td>69.685000</td>\n",
       "      <td>97.360000</td>\n",
       "      <td>69.52500</td>\n",
       "      <td>1.530000</td>\n",
       "      <td>86.680000</td>\n",
       "      <td>...</td>\n",
       "      <td>104.470000</td>\n",
       "      <td>60.030000</td>\n",
       "      <td>92.595000</td>\n",
       "      <td>60.155000</td>\n",
       "      <td>55.085000</td>\n",
       "      <td>100.760000</td>\n",
       "      <td>56.68000</td>\n",
       "      <td>59.060000</td>\n",
       "      <td>1.905000</td>\n",
       "      <td>1.305000</td>\n",
       "    </tr>\n",
       "    <tr>\n",
       "      <th>std</th>\n",
       "      <td>43.560435</td>\n",
       "      <td>45.008305</td>\n",
       "      <td>8.009109</td>\n",
       "      <td>31.49644</td>\n",
       "      <td>55.033355</td>\n",
       "      <td>48.476236</td>\n",
       "      <td>67.727435</td>\n",
       "      <td>48.36367</td>\n",
       "      <td>1.164422</td>\n",
       "      <td>37.926901</td>\n",
       "      <td>...</td>\n",
       "      <td>83.743501</td>\n",
       "      <td>46.121307</td>\n",
       "      <td>79.806304</td>\n",
       "      <td>25.830934</td>\n",
       "      <td>23.654289</td>\n",
       "      <td>43.264553</td>\n",
       "      <td>35.87664</td>\n",
       "      <td>31.904323</td>\n",
       "      <td>2.222764</td>\n",
       "      <td>1.023333</td>\n",
       "    </tr>\n",
       "    <tr>\n",
       "      <th>min</th>\n",
       "      <td>0.000000</td>\n",
       "      <td>0.000000</td>\n",
       "      <td>0.000000</td>\n",
       "      <td>0.00000</td>\n",
       "      <td>0.000000</td>\n",
       "      <td>0.000000</td>\n",
       "      <td>0.000000</td>\n",
       "      <td>0.00000</td>\n",
       "      <td>0.000000</td>\n",
       "      <td>0.000000</td>\n",
       "      <td>...</td>\n",
       "      <td>0.000000</td>\n",
       "      <td>0.000000</td>\n",
       "      <td>0.000000</td>\n",
       "      <td>0.000000</td>\n",
       "      <td>0.000000</td>\n",
       "      <td>0.000000</td>\n",
       "      <td>0.00000</td>\n",
       "      <td>0.000000</td>\n",
       "      <td>0.000000</td>\n",
       "      <td>0.000000</td>\n",
       "    </tr>\n",
       "    <tr>\n",
       "      <th>25%</th>\n",
       "      <td>0.000000</td>\n",
       "      <td>0.000000</td>\n",
       "      <td>0.000000</td>\n",
       "      <td>0.00000</td>\n",
       "      <td>0.000000</td>\n",
       "      <td>0.000000</td>\n",
       "      <td>0.000000</td>\n",
       "      <td>0.00000</td>\n",
       "      <td>0.000000</td>\n",
       "      <td>103.000000</td>\n",
       "      <td>...</td>\n",
       "      <td>0.000000</td>\n",
       "      <td>0.000000</td>\n",
       "      <td>0.000000</td>\n",
       "      <td>71.000000</td>\n",
       "      <td>65.000000</td>\n",
       "      <td>119.000000</td>\n",
       "      <td>0.00000</td>\n",
       "      <td>76.000000</td>\n",
       "      <td>0.000000</td>\n",
       "      <td>0.000000</td>\n",
       "    </tr>\n",
       "    <tr>\n",
       "      <th>50%</th>\n",
       "      <td>90.000000</td>\n",
       "      <td>93.000000</td>\n",
       "      <td>0.000000</td>\n",
       "      <td>64.00000</td>\n",
       "      <td>119.000000</td>\n",
       "      <td>103.000000</td>\n",
       "      <td>144.000000</td>\n",
       "      <td>103.00000</td>\n",
       "      <td>2.000000</td>\n",
       "      <td>103.000000</td>\n",
       "      <td>...</td>\n",
       "      <td>171.000000</td>\n",
       "      <td>95.000000</td>\n",
       "      <td>161.000000</td>\n",
       "      <td>71.000000</td>\n",
       "      <td>65.000000</td>\n",
       "      <td>119.000000</td>\n",
       "      <td>79.00000</td>\n",
       "      <td>76.000000</td>\n",
       "      <td>0.000000</td>\n",
       "      <td>2.000000</td>\n",
       "    </tr>\n",
       "    <tr>\n",
       "      <th>75%</th>\n",
       "      <td>90.000000</td>\n",
       "      <td>93.000000</td>\n",
       "      <td>11.000000</td>\n",
       "      <td>64.00000</td>\n",
       "      <td>119.000000</td>\n",
       "      <td>103.000000</td>\n",
       "      <td>144.000000</td>\n",
       "      <td>103.00000</td>\n",
       "      <td>2.000000</td>\n",
       "      <td>103.000000</td>\n",
       "      <td>...</td>\n",
       "      <td>171.000000</td>\n",
       "      <td>95.000000</td>\n",
       "      <td>161.000000</td>\n",
       "      <td>71.000000</td>\n",
       "      <td>65.000000</td>\n",
       "      <td>119.000000</td>\n",
       "      <td>79.00000</td>\n",
       "      <td>76.000000</td>\n",
       "      <td>4.000000</td>\n",
       "      <td>2.000000</td>\n",
       "    </tr>\n",
       "    <tr>\n",
       "      <th>max</th>\n",
       "      <td>91.000000</td>\n",
       "      <td>94.000000</td>\n",
       "      <td>24.000000</td>\n",
       "      <td>65.00000</td>\n",
       "      <td>120.000000</td>\n",
       "      <td>104.000000</td>\n",
       "      <td>145.000000</td>\n",
       "      <td>103.00000</td>\n",
       "      <td>3.000000</td>\n",
       "      <td>104.000000</td>\n",
       "      <td>...</td>\n",
       "      <td>172.000000</td>\n",
       "      <td>97.000000</td>\n",
       "      <td>162.000000</td>\n",
       "      <td>72.000000</td>\n",
       "      <td>66.000000</td>\n",
       "      <td>120.000000</td>\n",
       "      <td>80.00000</td>\n",
       "      <td>77.000000</td>\n",
       "      <td>5.000000</td>\n",
       "      <td>3.000000</td>\n",
       "    </tr>\n",
       "  </tbody>\n",
       "</table>\n",
       "<p>8 rows × 98 columns</p>\n",
       "</div>"
      ],
      "text/plain": [
       "          yjm1434     yjm1273      yps163    yjm1447      yjm195     yjm1248  \\\n",
       "count  200.000000  200.000000  200.000000  200.00000  200.000000  200.000000   \n",
       "mean    57.310000   59.215000    4.930000   38.88000   82.865000   69.685000   \n",
       "std     43.560435   45.008305    8.009109   31.49644   55.033355   48.476236   \n",
       "min      0.000000    0.000000    0.000000    0.00000    0.000000    0.000000   \n",
       "25%      0.000000    0.000000    0.000000    0.00000    0.000000    0.000000   \n",
       "50%     90.000000   93.000000    0.000000   64.00000  119.000000  103.000000   \n",
       "75%     90.000000   93.000000   11.000000   64.00000  119.000000  103.000000   \n",
       "max     91.000000   94.000000   24.000000   65.00000  120.000000  104.000000   \n",
       "\n",
       "          yjm1439     yjm627         sk1     yjm1388     ...         yjm1549  \\\n",
       "count  200.000000  200.00000  200.000000  200.000000     ...      200.000000   \n",
       "mean    97.360000   69.52500    1.530000   86.680000     ...      104.470000   \n",
       "std     67.727435   48.36367    1.164422   37.926901     ...       83.743501   \n",
       "min      0.000000    0.00000    0.000000    0.000000     ...        0.000000   \n",
       "25%      0.000000    0.00000    0.000000  103.000000     ...        0.000000   \n",
       "50%    144.000000  103.00000    2.000000  103.000000     ...      171.000000   \n",
       "75%    144.000000  103.00000    2.000000  103.000000     ...      171.000000   \n",
       "max    145.000000  103.00000    3.000000  104.000000     ...      172.000000   \n",
       "\n",
       "          yjm1311      yjm693     yjm1199     yjm1338     yjm1527    yjm1399  \\\n",
       "count  200.000000  200.000000  200.000000  200.000000  200.000000  200.00000   \n",
       "mean    60.030000   92.595000   60.155000   55.085000  100.760000   56.68000   \n",
       "std     46.121307   79.806304   25.830934   23.654289   43.264553   35.87664   \n",
       "min      0.000000    0.000000    0.000000    0.000000    0.000000    0.00000   \n",
       "25%      0.000000    0.000000   71.000000   65.000000  119.000000    0.00000   \n",
       "50%     95.000000  161.000000   71.000000   65.000000  119.000000   79.00000   \n",
       "75%     95.000000  161.000000   71.000000   65.000000  119.000000   79.00000   \n",
       "max     97.000000  162.000000   72.000000   66.000000  120.000000   80.00000   \n",
       "\n",
       "          yjm1326  sigma1278b       s288c  \n",
       "count  200.000000  200.000000  200.000000  \n",
       "mean    59.060000    1.905000    1.305000  \n",
       "std     31.904323    2.222764    1.023333  \n",
       "min      0.000000    0.000000    0.000000  \n",
       "25%     76.000000    0.000000    0.000000  \n",
       "50%     76.000000    0.000000    2.000000  \n",
       "75%     76.000000    4.000000    2.000000  \n",
       "max     77.000000    5.000000    3.000000  \n",
       "\n",
       "[8 rows x 98 columns]"
      ]
     },
     "execution_count": 162,
     "metadata": {},
     "output_type": "execute_result"
    }
   ],
   "source": [
    "X.transpose().describe()"
   ]
  },
  {
   "cell_type": "code",
   "execution_count": 163,
   "metadata": {},
   "outputs": [
    {
     "data": {
      "text/html": [
       "<div>\n",
       "<style scoped>\n",
       "    .dataframe tbody tr th:only-of-type {\n",
       "        vertical-align: middle;\n",
       "    }\n",
       "\n",
       "    .dataframe tbody tr th {\n",
       "        vertical-align: top;\n",
       "    }\n",
       "\n",
       "    .dataframe thead th {\n",
       "        text-align: right;\n",
       "    }\n",
       "</style>\n",
       "<table border=\"1\" class=\"dataframe\">\n",
       "  <thead>\n",
       "    <tr style=\"text-align: right;\">\n",
       "      <th>Strain</th>\n",
       "      <th>m22</th>\n",
       "      <th>rm11</th>\n",
       "      <th>s288c</th>\n",
       "      <th>sigma1278b</th>\n",
       "      <th>sk1</th>\n",
       "      <th>yjm1078</th>\n",
       "      <th>yjm1083</th>\n",
       "      <th>yjm1129</th>\n",
       "      <th>yjm1133</th>\n",
       "      <th>yjm1190</th>\n",
       "      <th>...</th>\n",
       "      <th>yjm972</th>\n",
       "      <th>yjm975</th>\n",
       "      <th>yjm978</th>\n",
       "      <th>yjm981</th>\n",
       "      <th>yjm984</th>\n",
       "      <th>yjm987</th>\n",
       "      <th>yjm990</th>\n",
       "      <th>yjm993</th>\n",
       "      <th>yjm996</th>\n",
       "      <th>yps163</th>\n",
       "    </tr>\n",
       "  </thead>\n",
       "  <tbody>\n",
       "    <tr>\n",
       "      <th>count</th>\n",
       "      <td>137902.000000</td>\n",
       "      <td>137902.000000</td>\n",
       "      <td>137902.000000</td>\n",
       "      <td>137902.000000</td>\n",
       "      <td>137902.000000</td>\n",
       "      <td>137902.000000</td>\n",
       "      <td>137902.000000</td>\n",
       "      <td>137902.000000</td>\n",
       "      <td>137902.000000</td>\n",
       "      <td>137902.000000</td>\n",
       "      <td>...</td>\n",
       "      <td>137902.000000</td>\n",
       "      <td>137902.000000</td>\n",
       "      <td>137902.000000</td>\n",
       "      <td>137902.000000</td>\n",
       "      <td>137902.000000</td>\n",
       "      <td>137902.000000</td>\n",
       "      <td>137902.000000</td>\n",
       "      <td>137902.000000</td>\n",
       "      <td>137902.000000</td>\n",
       "      <td>137902.000000</td>\n",
       "    </tr>\n",
       "    <tr>\n",
       "      <th>mean</th>\n",
       "      <td>0.403547</td>\n",
       "      <td>0.275739</td>\n",
       "      <td>0.404570</td>\n",
       "      <td>0.404505</td>\n",
       "      <td>0.393693</td>\n",
       "      <td>0.542458</td>\n",
       "      <td>0.740134</td>\n",
       "      <td>1.138497</td>\n",
       "      <td>0.744137</td>\n",
       "      <td>1.017353</td>\n",
       "      <td>...</td>\n",
       "      <td>1.110695</td>\n",
       "      <td>0.759329</td>\n",
       "      <td>0.898428</td>\n",
       "      <td>1.087142</td>\n",
       "      <td>1.161695</td>\n",
       "      <td>1.114139</td>\n",
       "      <td>0.848690</td>\n",
       "      <td>0.887413</td>\n",
       "      <td>0.997411</td>\n",
       "      <td>0.297726</td>\n",
       "    </tr>\n",
       "    <tr>\n",
       "      <th>std</th>\n",
       "      <td>3.033539</td>\n",
       "      <td>0.490399</td>\n",
       "      <td>0.508545</td>\n",
       "      <td>0.539960</td>\n",
       "      <td>0.502530</td>\n",
       "      <td>2.027202</td>\n",
       "      <td>5.514050</td>\n",
       "      <td>10.475123</td>\n",
       "      <td>5.219142</td>\n",
       "      <td>9.236916</td>\n",
       "      <td>...</td>\n",
       "      <td>9.893880</td>\n",
       "      <td>4.625548</td>\n",
       "      <td>6.729848</td>\n",
       "      <td>9.498141</td>\n",
       "      <td>10.685181</td>\n",
       "      <td>9.894012</td>\n",
       "      <td>6.072113</td>\n",
       "      <td>6.532404</td>\n",
       "      <td>8.245589</td>\n",
       "      <td>2.119273</td>\n",
       "    </tr>\n",
       "    <tr>\n",
       "      <th>min</th>\n",
       "      <td>0.000000</td>\n",
       "      <td>0.000000</td>\n",
       "      <td>0.000000</td>\n",
       "      <td>0.000000</td>\n",
       "      <td>0.000000</td>\n",
       "      <td>0.000000</td>\n",
       "      <td>0.000000</td>\n",
       "      <td>0.000000</td>\n",
       "      <td>0.000000</td>\n",
       "      <td>0.000000</td>\n",
       "      <td>...</td>\n",
       "      <td>0.000000</td>\n",
       "      <td>0.000000</td>\n",
       "      <td>0.000000</td>\n",
       "      <td>0.000000</td>\n",
       "      <td>0.000000</td>\n",
       "      <td>0.000000</td>\n",
       "      <td>0.000000</td>\n",
       "      <td>0.000000</td>\n",
       "      <td>0.000000</td>\n",
       "      <td>0.000000</td>\n",
       "    </tr>\n",
       "    <tr>\n",
       "      <th>25%</th>\n",
       "      <td>0.000000</td>\n",
       "      <td>0.000000</td>\n",
       "      <td>0.000000</td>\n",
       "      <td>0.000000</td>\n",
       "      <td>0.000000</td>\n",
       "      <td>0.000000</td>\n",
       "      <td>0.000000</td>\n",
       "      <td>0.000000</td>\n",
       "      <td>0.000000</td>\n",
       "      <td>0.000000</td>\n",
       "      <td>...</td>\n",
       "      <td>0.000000</td>\n",
       "      <td>0.000000</td>\n",
       "      <td>0.000000</td>\n",
       "      <td>0.000000</td>\n",
       "      <td>0.000000</td>\n",
       "      <td>0.000000</td>\n",
       "      <td>0.000000</td>\n",
       "      <td>0.000000</td>\n",
       "      <td>0.000000</td>\n",
       "      <td>0.000000</td>\n",
       "    </tr>\n",
       "    <tr>\n",
       "      <th>50%</th>\n",
       "      <td>0.000000</td>\n",
       "      <td>0.000000</td>\n",
       "      <td>0.000000</td>\n",
       "      <td>0.000000</td>\n",
       "      <td>0.000000</td>\n",
       "      <td>0.000000</td>\n",
       "      <td>0.000000</td>\n",
       "      <td>0.000000</td>\n",
       "      <td>0.000000</td>\n",
       "      <td>0.000000</td>\n",
       "      <td>...</td>\n",
       "      <td>0.000000</td>\n",
       "      <td>0.000000</td>\n",
       "      <td>0.000000</td>\n",
       "      <td>0.000000</td>\n",
       "      <td>0.000000</td>\n",
       "      <td>0.000000</td>\n",
       "      <td>0.000000</td>\n",
       "      <td>0.000000</td>\n",
       "      <td>0.000000</td>\n",
       "      <td>0.000000</td>\n",
       "    </tr>\n",
       "    <tr>\n",
       "      <th>75%</th>\n",
       "      <td>0.000000</td>\n",
       "      <td>1.000000</td>\n",
       "      <td>1.000000</td>\n",
       "      <td>1.000000</td>\n",
       "      <td>1.000000</td>\n",
       "      <td>1.000000</td>\n",
       "      <td>1.000000</td>\n",
       "      <td>1.000000</td>\n",
       "      <td>1.000000</td>\n",
       "      <td>1.000000</td>\n",
       "      <td>...</td>\n",
       "      <td>1.000000</td>\n",
       "      <td>1.000000</td>\n",
       "      <td>1.000000</td>\n",
       "      <td>1.000000</td>\n",
       "      <td>1.000000</td>\n",
       "      <td>1.000000</td>\n",
       "      <td>1.000000</td>\n",
       "      <td>1.000000</td>\n",
       "      <td>1.000000</td>\n",
       "      <td>0.000000</td>\n",
       "    </tr>\n",
       "    <tr>\n",
       "      <th>max</th>\n",
       "      <td>50.000000</td>\n",
       "      <td>6.000000</td>\n",
       "      <td>6.000000</td>\n",
       "      <td>6.000000</td>\n",
       "      <td>7.000000</td>\n",
       "      <td>33.000000</td>\n",
       "      <td>87.000000</td>\n",
       "      <td>161.000000</td>\n",
       "      <td>80.000000</td>\n",
       "      <td>141.000000</td>\n",
       "      <td>...</td>\n",
       "      <td>151.000000</td>\n",
       "      <td>71.000000</td>\n",
       "      <td>103.000000</td>\n",
       "      <td>145.000000</td>\n",
       "      <td>163.000000</td>\n",
       "      <td>151.000000</td>\n",
       "      <td>93.000000</td>\n",
       "      <td>100.000000</td>\n",
       "      <td>126.000000</td>\n",
       "      <td>43.000000</td>\n",
       "    </tr>\n",
       "  </tbody>\n",
       "</table>\n",
       "<p>8 rows × 100 columns</p>\n",
       "</div>"
      ],
      "text/plain": [
       "Strain            m22           rm11          s288c     sigma1278b  \\\n",
       "count   137902.000000  137902.000000  137902.000000  137902.000000   \n",
       "mean         0.403547       0.275739       0.404570       0.404505   \n",
       "std          3.033539       0.490399       0.508545       0.539960   \n",
       "min          0.000000       0.000000       0.000000       0.000000   \n",
       "25%          0.000000       0.000000       0.000000       0.000000   \n",
       "50%          0.000000       0.000000       0.000000       0.000000   \n",
       "75%          0.000000       1.000000       1.000000       1.000000   \n",
       "max         50.000000       6.000000       6.000000       6.000000   \n",
       "\n",
       "Strain            sk1        yjm1078        yjm1083        yjm1129  \\\n",
       "count   137902.000000  137902.000000  137902.000000  137902.000000   \n",
       "mean         0.393693       0.542458       0.740134       1.138497   \n",
       "std          0.502530       2.027202       5.514050      10.475123   \n",
       "min          0.000000       0.000000       0.000000       0.000000   \n",
       "25%          0.000000       0.000000       0.000000       0.000000   \n",
       "50%          0.000000       0.000000       0.000000       0.000000   \n",
       "75%          1.000000       1.000000       1.000000       1.000000   \n",
       "max          7.000000      33.000000      87.000000     161.000000   \n",
       "\n",
       "Strain        yjm1133        yjm1190      ...               yjm972  \\\n",
       "count   137902.000000  137902.000000      ...        137902.000000   \n",
       "mean         0.744137       1.017353      ...             1.110695   \n",
       "std          5.219142       9.236916      ...             9.893880   \n",
       "min          0.000000       0.000000      ...             0.000000   \n",
       "25%          0.000000       0.000000      ...             0.000000   \n",
       "50%          0.000000       0.000000      ...             0.000000   \n",
       "75%          1.000000       1.000000      ...             1.000000   \n",
       "max         80.000000     141.000000      ...           151.000000   \n",
       "\n",
       "Strain         yjm975         yjm978         yjm981         yjm984  \\\n",
       "count   137902.000000  137902.000000  137902.000000  137902.000000   \n",
       "mean         0.759329       0.898428       1.087142       1.161695   \n",
       "std          4.625548       6.729848       9.498141      10.685181   \n",
       "min          0.000000       0.000000       0.000000       0.000000   \n",
       "25%          0.000000       0.000000       0.000000       0.000000   \n",
       "50%          0.000000       0.000000       0.000000       0.000000   \n",
       "75%          1.000000       1.000000       1.000000       1.000000   \n",
       "max         71.000000     103.000000     145.000000     163.000000   \n",
       "\n",
       "Strain         yjm987         yjm990         yjm993         yjm996  \\\n",
       "count   137902.000000  137902.000000  137902.000000  137902.000000   \n",
       "mean         1.114139       0.848690       0.887413       0.997411   \n",
       "std          9.894012       6.072113       6.532404       8.245589   \n",
       "min          0.000000       0.000000       0.000000       0.000000   \n",
       "25%          0.000000       0.000000       0.000000       0.000000   \n",
       "50%          0.000000       0.000000       0.000000       0.000000   \n",
       "75%          1.000000       1.000000       1.000000       1.000000   \n",
       "max        151.000000      93.000000     100.000000     126.000000   \n",
       "\n",
       "Strain         yps163  \n",
       "count   137902.000000  \n",
       "mean         0.297726  \n",
       "std          2.119273  \n",
       "min          0.000000  \n",
       "25%          0.000000  \n",
       "50%          0.000000  \n",
       "75%          0.000000  \n",
       "max         43.000000  \n",
       "\n",
       "[8 rows x 100 columns]"
      ]
     },
     "execution_count": 163,
     "metadata": {},
     "output_type": "execute_result"
    }
   ],
   "source": [
    "frdf.transpose().describe()"
   ]
  }
 ],
 "metadata": {
  "kernelspec": {
   "display_name": "Python 3",
   "language": "python",
   "name": "python3"
  },
  "language_info": {
   "codemirror_mode": {
    "name": "ipython",
    "version": 3
   },
   "file_extension": ".py",
   "mimetype": "text/x-python",
   "name": "python",
   "nbconvert_exporter": "python",
   "pygments_lexer": "ipython3",
   "version": "3.6.5"
  }
 },
 "nbformat": 4,
 "nbformat_minor": 2
}

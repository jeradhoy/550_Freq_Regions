{
 "cells": [
  {
   "cell_type": "code",
   "execution_count": 1,
   "metadata": {},
   "outputs": [],
   "source": [
    "import pandas as pd"
   ]
  },
  {
   "cell_type": "markdown",
   "metadata": {},
   "source": [
    "# Constructing our matrix of frequented Regions by strain"
   ]
  },
  {
   "cell_type": "code",
   "execution_count": 58,
   "metadata": {},
   "outputs": [],
   "source": [
    "rawDf = pd.read_csv(\"../../data/100YeastGenomesCombinedHardMasked.gtet300bps.k300.graph.dot-100YeastGenomesCombinedHardMasked.gtet300bps.fna-a0.8-kp0-sup5-sz1.bed\", delimiter=\"\\t\", header=None)\n",
    "#rawDf = rawDf[[0,3]]"
   ]
  },
  {
   "cell_type": "code",
   "execution_count": 59,
   "metadata": {},
   "outputs": [
    {
     "data": {
      "text/plain": [
       "(11273908, 10)"
      ]
     },
     "execution_count": 59,
     "metadata": {},
     "output_type": "execute_result"
    }
   ],
   "source": [
    "rawDf.shape"
   ]
  },
  {
   "cell_type": "code",
   "execution_count": 60,
   "metadata": {},
   "outputs": [],
   "source": [
    "seqText = rawDf[0].values"
   ]
  },
  {
   "cell_type": "code",
   "execution_count": 61,
   "metadata": {},
   "outputs": [],
   "source": [
    "textSplitLen = [len(text.split()) for text in seqText]"
   ]
  },
  {
   "cell_type": "code",
   "execution_count": null,
   "metadata": {},
   "outputs": [],
   "source": [
    "textSplit = [text.split() for text in seqText]"
   ]
  },
  {
   "cell_type": "raw",
   "metadata": {},
   "source": [
    "len(set(textSplit))"
   ]
  },
  {
   "cell_type": "raw",
   "metadata": {},
   "source": [
    "textSplit[(textSplitLen.index(1)-10):(textSplitLen.index(1)+10)]"
   ]
  },
  {
   "cell_type": "code",
   "execution_count": null,
   "metadata": {},
   "outputs": [],
   "source": [
    "strain = []\n",
    "for text in textSplit:\n",
    "    if len(text) == 1:\n",
    "        strain.append(text[0].split(\".\")[0])\n",
    "    else:\n",
    "        #strain.append(text[text.index(\"cerevisiae\") + 1])\n",
    "        strainName = text[text.index(\"cerevisiae\") + 1]\n",
    "        strain.append(strainName.split(\"-\")[0])"
   ]
  },
  {
   "cell_type": "code",
   "execution_count": null,
   "metadata": {},
   "outputs": [],
   "source": [
    "strainLower = [text.lower() for text in strain]"
   ]
  },
  {
   "cell_type": "code",
   "execution_count": null,
   "metadata": {},
   "outputs": [],
   "source": [
    "frNums = [int(text.split(\"-\")[1]) for text in rawDf[3].values]"
   ]
  },
  {
   "cell_type": "code",
   "execution_count": null,
   "metadata": {},
   "outputs": [],
   "source": [
    "df = pd.DataFrame({\"Strain\": strainLower, \"FrNum\": frNums})"
   ]
  },
  {
   "cell_type": "code",
   "execution_count": null,
   "metadata": {},
   "outputs": [],
   "source": [
    "len(set(frNums))"
   ]
  },
  {
   "cell_type": "code",
   "execution_count": 53,
   "metadata": {},
   "outputs": [],
   "source": [
    "dfMeow = df.groupby(df.columns.tolist(),as_index=False).size().reset_index(name = 'counts')"
   ]
  },
  {
   "cell_type": "code",
   "execution_count": 54,
   "metadata": {},
   "outputs": [],
   "source": [
    "dfPivot = dfMeow.pivot(index = \"Strain\", columns = \"FrNum\", values=\"counts\").fillna(0)\n"
   ]
  },
  {
   "cell_type": "code",
   "execution_count": 55,
   "metadata": {},
   "outputs": [
    {
     "data": {
      "text/plain": [
       "Int64Index([   0,    1,    2,    3,    4,    5,    6,    7,    8,    9,\n",
       "            ...\n",
       "            5220, 5221, 5222, 5223, 5224, 5225, 5226, 5227, 5228, 5229],\n",
       "           dtype='int64', name='FrNum', length=5230)"
      ]
     },
     "execution_count": 55,
     "metadata": {},
     "output_type": "execute_result"
    }
   ],
   "source": [
    "dfPivot.columns"
   ]
  },
  {
   "cell_type": "code",
   "execution_count": 56,
   "metadata": {},
   "outputs": [
    {
     "data": {
      "text/html": [
       "<div>\n",
       "<style scoped>\n",
       "    .dataframe tbody tr th:only-of-type {\n",
       "        vertical-align: middle;\n",
       "    }\n",
       "\n",
       "    .dataframe tbody tr th {\n",
       "        vertical-align: top;\n",
       "    }\n",
       "\n",
       "    .dataframe thead th {\n",
       "        text-align: right;\n",
       "    }\n",
       "</style>\n",
       "<table border=\"1\" class=\"dataframe\">\n",
       "  <thead>\n",
       "    <tr style=\"text-align: right;\">\n",
       "      <th>FrNum</th>\n",
       "      <th>0</th>\n",
       "      <th>1</th>\n",
       "      <th>2</th>\n",
       "      <th>3</th>\n",
       "      <th>4</th>\n",
       "      <th>5</th>\n",
       "      <th>6</th>\n",
       "      <th>7</th>\n",
       "      <th>8</th>\n",
       "      <th>9</th>\n",
       "      <th>...</th>\n",
       "      <th>5220</th>\n",
       "      <th>5221</th>\n",
       "      <th>5222</th>\n",
       "      <th>5223</th>\n",
       "      <th>5224</th>\n",
       "      <th>5225</th>\n",
       "      <th>5226</th>\n",
       "      <th>5227</th>\n",
       "      <th>5228</th>\n",
       "      <th>5229</th>\n",
       "    </tr>\n",
       "    <tr>\n",
       "      <th>Strain</th>\n",
       "      <th></th>\n",
       "      <th></th>\n",
       "      <th></th>\n",
       "      <th></th>\n",
       "      <th></th>\n",
       "      <th></th>\n",
       "      <th></th>\n",
       "      <th></th>\n",
       "      <th></th>\n",
       "      <th></th>\n",
       "      <th></th>\n",
       "      <th></th>\n",
       "      <th></th>\n",
       "      <th></th>\n",
       "      <th></th>\n",
       "      <th></th>\n",
       "      <th></th>\n",
       "      <th></th>\n",
       "      <th></th>\n",
       "      <th></th>\n",
       "      <th></th>\n",
       "    </tr>\n",
       "  </thead>\n",
       "  <tbody>\n",
       "    <tr>\n",
       "      <th>m22</th>\n",
       "      <td>22.0</td>\n",
       "      <td>21.0</td>\n",
       "      <td>20.0</td>\n",
       "      <td>20.0</td>\n",
       "      <td>20.0</td>\n",
       "      <td>19.0</td>\n",
       "      <td>19.0</td>\n",
       "      <td>22.0</td>\n",
       "      <td>18.0</td>\n",
       "      <td>21.0</td>\n",
       "      <td>...</td>\n",
       "      <td>1.0</td>\n",
       "      <td>0.0</td>\n",
       "      <td>1.0</td>\n",
       "      <td>0.0</td>\n",
       "      <td>0.0</td>\n",
       "      <td>0.0</td>\n",
       "      <td>0.0</td>\n",
       "      <td>0.0</td>\n",
       "      <td>1.0</td>\n",
       "      <td>0.0</td>\n",
       "    </tr>\n",
       "    <tr>\n",
       "      <th>rm11</th>\n",
       "      <td>2.0</td>\n",
       "      <td>2.0</td>\n",
       "      <td>2.0</td>\n",
       "      <td>2.0</td>\n",
       "      <td>2.0</td>\n",
       "      <td>2.0</td>\n",
       "      <td>2.0</td>\n",
       "      <td>2.0</td>\n",
       "      <td>2.0</td>\n",
       "      <td>2.0</td>\n",
       "      <td>...</td>\n",
       "      <td>1.0</td>\n",
       "      <td>1.0</td>\n",
       "      <td>1.0</td>\n",
       "      <td>0.0</td>\n",
       "      <td>1.0</td>\n",
       "      <td>0.0</td>\n",
       "      <td>1.0</td>\n",
       "      <td>1.0</td>\n",
       "      <td>1.0</td>\n",
       "      <td>1.0</td>\n",
       "    </tr>\n",
       "    <tr>\n",
       "      <th>s288c</th>\n",
       "      <td>3.0</td>\n",
       "      <td>3.0</td>\n",
       "      <td>3.0</td>\n",
       "      <td>3.0</td>\n",
       "      <td>3.0</td>\n",
       "      <td>3.0</td>\n",
       "      <td>3.0</td>\n",
       "      <td>3.0</td>\n",
       "      <td>3.0</td>\n",
       "      <td>3.0</td>\n",
       "      <td>...</td>\n",
       "      <td>0.0</td>\n",
       "      <td>1.0</td>\n",
       "      <td>1.0</td>\n",
       "      <td>1.0</td>\n",
       "      <td>1.0</td>\n",
       "      <td>1.0</td>\n",
       "      <td>1.0</td>\n",
       "      <td>1.0</td>\n",
       "      <td>1.0</td>\n",
       "      <td>0.0</td>\n",
       "    </tr>\n",
       "    <tr>\n",
       "      <th>sigma1278b</th>\n",
       "      <td>5.0</td>\n",
       "      <td>5.0</td>\n",
       "      <td>5.0</td>\n",
       "      <td>5.0</td>\n",
       "      <td>5.0</td>\n",
       "      <td>5.0</td>\n",
       "      <td>5.0</td>\n",
       "      <td>5.0</td>\n",
       "      <td>5.0</td>\n",
       "      <td>5.0</td>\n",
       "      <td>...</td>\n",
       "      <td>1.0</td>\n",
       "      <td>1.0</td>\n",
       "      <td>1.0</td>\n",
       "      <td>1.0</td>\n",
       "      <td>1.0</td>\n",
       "      <td>1.0</td>\n",
       "      <td>1.0</td>\n",
       "      <td>1.0</td>\n",
       "      <td>1.0</td>\n",
       "      <td>0.0</td>\n",
       "    </tr>\n",
       "    <tr>\n",
       "      <th>sk1</th>\n",
       "      <td>3.0</td>\n",
       "      <td>3.0</td>\n",
       "      <td>3.0</td>\n",
       "      <td>3.0</td>\n",
       "      <td>3.0</td>\n",
       "      <td>3.0</td>\n",
       "      <td>3.0</td>\n",
       "      <td>3.0</td>\n",
       "      <td>3.0</td>\n",
       "      <td>3.0</td>\n",
       "      <td>...</td>\n",
       "      <td>1.0</td>\n",
       "      <td>1.0</td>\n",
       "      <td>1.0</td>\n",
       "      <td>1.0</td>\n",
       "      <td>1.0</td>\n",
       "      <td>0.0</td>\n",
       "      <td>1.0</td>\n",
       "      <td>1.0</td>\n",
       "      <td>1.0</td>\n",
       "      <td>0.0</td>\n",
       "    </tr>\n",
       "  </tbody>\n",
       "</table>\n",
       "<p>5 rows × 5230 columns</p>\n",
       "</div>"
      ],
      "text/plain": [
       "FrNum       0     1     2     3     4     5     6     7     8     9     ...   \\\n",
       "Strain                                                                  ...    \n",
       "m22         22.0  21.0  20.0  20.0  20.0  19.0  19.0  22.0  18.0  21.0  ...    \n",
       "rm11         2.0   2.0   2.0   2.0   2.0   2.0   2.0   2.0   2.0   2.0  ...    \n",
       "s288c        3.0   3.0   3.0   3.0   3.0   3.0   3.0   3.0   3.0   3.0  ...    \n",
       "sigma1278b   5.0   5.0   5.0   5.0   5.0   5.0   5.0   5.0   5.0   5.0  ...    \n",
       "sk1          3.0   3.0   3.0   3.0   3.0   3.0   3.0   3.0   3.0   3.0  ...    \n",
       "\n",
       "FrNum       5220  5221  5222  5223  5224  5225  5226  5227  5228  5229  \n",
       "Strain                                                                  \n",
       "m22          1.0   0.0   1.0   0.0   0.0   0.0   0.0   0.0   1.0   0.0  \n",
       "rm11         1.0   1.0   1.0   0.0   1.0   0.0   1.0   1.0   1.0   1.0  \n",
       "s288c        0.0   1.0   1.0   1.0   1.0   1.0   1.0   1.0   1.0   0.0  \n",
       "sigma1278b   1.0   1.0   1.0   1.0   1.0   1.0   1.0   1.0   1.0   0.0  \n",
       "sk1          1.0   1.0   1.0   1.0   1.0   0.0   1.0   1.0   1.0   0.0  \n",
       "\n",
       "[5 rows x 5230 columns]"
      ]
     },
     "execution_count": 56,
     "metadata": {},
     "output_type": "execute_result"
    }
   ],
   "source": [
    "dfPivot.head()"
   ]
  },
  {
   "cell_type": "code",
   "execution_count": null,
   "metadata": {},
   "outputs": [],
   "source": [
    "dfPivotSmall"
   ]
  },
  {
   "cell_type": "markdown",
   "metadata": {},
   "source": [
    "## Read in top FRs"
   ]
  },
  {
   "cell_type": "code",
   "execution_count": 13,
   "metadata": {},
   "outputs": [
    {
     "data": {
      "text/plain": [
       "[604,\n",
       " 605,\n",
       " 602,\n",
       " 603,\n",
       " 601,\n",
       " 607,\n",
       " 606,\n",
       " 591,\n",
       " 600,\n",
       " 599,\n",
       " 598,\n",
       " 597,\n",
       " 587,\n",
       " 596,\n",
       " 585,\n",
       " 586,\n",
       " 594,\n",
       " 595,\n",
       " 588,\n",
       " 609,\n",
       " 593,\n",
       " 592,\n",
       " 584,\n",
       " 590,\n",
       " 589,\n",
       " 572,\n",
       " 583,\n",
       " 582,\n",
       " 571,\n",
       " 581,\n",
       " 610,\n",
       " 580,\n",
       " 579,\n",
       " 611,\n",
       " 570,\n",
       " 578,\n",
       " 577,\n",
       " 576,\n",
       " 575,\n",
       " 574,\n",
       " 573,\n",
       " 608,\n",
       " 567,\n",
       " 566,\n",
       " 565,\n",
       " 569,\n",
       " 564,\n",
       " 563,\n",
       " 568,\n",
       " 559,\n",
       " 558,\n",
       " 562,\n",
       " 555,\n",
       " 554,\n",
       " 561,\n",
       " 560,\n",
       " 553,\n",
       " 552,\n",
       " 557,\n",
       " 556,\n",
       " 612,\n",
       " 613,\n",
       " 614,\n",
       " 615,\n",
       " 616,\n",
       " 551,\n",
       " 622,\n",
       " 617,\n",
       " 619,\n",
       " 618,\n",
       " 620,\n",
       " 621,\n",
       " 623,\n",
       " 624,\n",
       " 628,\n",
       " 629,\n",
       " 625,\n",
       " 626,\n",
       " 550,\n",
       " 549,\n",
       " 627,\n",
       " 548,\n",
       " 630,\n",
       " 541,\n",
       " 547,\n",
       " 544,\n",
       " 546,\n",
       " 543,\n",
       " 542,\n",
       " 545,\n",
       " 538,\n",
       " 539,\n",
       " 540,\n",
       " 536,\n",
       " 522,\n",
       " 518,\n",
       " 514,\n",
       " 520,\n",
       " 516,\n",
       " 510,\n",
       " 527,\n",
       " 533,\n",
       " 517,\n",
       " 511,\n",
       " 506,\n",
       " 504,\n",
       " 501,\n",
       " 512,\n",
       " 498,\n",
       " 507,\n",
       " 508,\n",
       " 503,\n",
       " 505,\n",
       " 502,\n",
       " 500,\n",
       " 497,\n",
       " 496,\n",
       " 494,\n",
       " 499,\n",
       " 495,\n",
       " 492,\n",
       " 493,\n",
       " 537,\n",
       " 490,\n",
       " 487,\n",
       " 489,\n",
       " 491,\n",
       " 483,\n",
       " 486,\n",
       " 488,\n",
       " 481,\n",
       " 482,\n",
       " 484,\n",
       " 478,\n",
       " 480,\n",
       " 479,\n",
       " 534,\n",
       " 535,\n",
       " 532,\n",
       " 531,\n",
       " 528,\n",
       " 524,\n",
       " 529,\n",
       " 530,\n",
       " 523,\n",
       " 525,\n",
       " 526,\n",
       " 519,\n",
       " 521,\n",
       " 515,\n",
       " 485,\n",
       " 513,\n",
       " 476,\n",
       " 477,\n",
       " 473,\n",
       " 474,\n",
       " 475,\n",
       " 509,\n",
       " 471,\n",
       " 472,\n",
       " 470,\n",
       " 469,\n",
       " 468,\n",
       " 631,\n",
       " 632,\n",
       " 467,\n",
       " 466,\n",
       " 465,\n",
       " 464,\n",
       " 463,\n",
       " 640,\n",
       " 462,\n",
       " 461,\n",
       " 460,\n",
       " 455,\n",
       " 458,\n",
       " 457,\n",
       " 459,\n",
       " 456,\n",
       " 453,\n",
       " 454,\n",
       " 710,\n",
       " 452,\n",
       " 30,\n",
       " 29,\n",
       " 451,\n",
       " 26,\n",
       " 21,\n",
       " 23,\n",
       " 15,\n",
       " 450,\n",
       " 27,\n",
       " 28,\n",
       " 17,\n",
       " 22,\n",
       " 8,\n",
       " 14,\n",
       " 449,\n",
       " 24]"
      ]
     },
     "execution_count": 13,
     "metadata": {},
     "output_type": "execute_result"
    }
   ],
   "source": [
    "top1000 = pd.read_csv(\"../../data/100YeastGenomesCombinedHardMasked.gtet300bps.k300.graph.dot-100YeastGenomesCombinedHardMasked.gtet300bps.fna-a0.8-kp0-sup5-sz1-limit1000.topfrs.txt\", header = None)\n",
    "top1000int = [int(top) for top in top1000[0].values]\n",
    "top1000int[0:199]"
   ]
  },
  {
   "cell_type": "code",
   "execution_count": 14,
   "metadata": {},
   "outputs": [
    {
     "data": {
      "text/plain": [
       "[604,\n",
       " 605,\n",
       " 602,\n",
       " 603,\n",
       " 601,\n",
       " 607,\n",
       " 606,\n",
       " 591,\n",
       " 600,\n",
       " 599,\n",
       " 598,\n",
       " 597,\n",
       " 587,\n",
       " 596,\n",
       " 585,\n",
       " 586,\n",
       " 594,\n",
       " 595,\n",
       " 588,\n",
       " 609,\n",
       " 593,\n",
       " 592,\n",
       " 584,\n",
       " 590,\n",
       " 589,\n",
       " 572,\n",
       " 583,\n",
       " 582,\n",
       " 571,\n",
       " 581,\n",
       " 610,\n",
       " 580,\n",
       " 579,\n",
       " 611,\n",
       " 570,\n",
       " 578,\n",
       " 577,\n",
       " 576,\n",
       " 575,\n",
       " 574,\n",
       " 573,\n",
       " 608,\n",
       " 567,\n",
       " 566,\n",
       " 565,\n",
       " 569,\n",
       " 564,\n",
       " 563,\n",
       " 568,\n",
       " 559,\n",
       " 558,\n",
       " 562,\n",
       " 555,\n",
       " 554,\n",
       " 561,\n",
       " 560,\n",
       " 553,\n",
       " 552,\n",
       " 557,\n",
       " 556,\n",
       " 612,\n",
       " 613,\n",
       " 614,\n",
       " 615,\n",
       " 616,\n",
       " 551,\n",
       " 622,\n",
       " 617,\n",
       " 619,\n",
       " 618,\n",
       " 620,\n",
       " 621,\n",
       " 623,\n",
       " 624,\n",
       " 628,\n",
       " 629,\n",
       " 625,\n",
       " 626,\n",
       " 550,\n",
       " 549,\n",
       " 627,\n",
       " 548,\n",
       " 630,\n",
       " 541,\n",
       " 547,\n",
       " 544,\n",
       " 546,\n",
       " 543,\n",
       " 542,\n",
       " 545,\n",
       " 538,\n",
       " 539,\n",
       " 540,\n",
       " 536,\n",
       " 522,\n",
       " 518,\n",
       " 514,\n",
       " 520,\n",
       " 516,\n",
       " 510,\n",
       " 527,\n",
       " 533,\n",
       " 517,\n",
       " 511,\n",
       " 506,\n",
       " 504,\n",
       " 501,\n",
       " 512,\n",
       " 498,\n",
       " 507,\n",
       " 508,\n",
       " 503,\n",
       " 505,\n",
       " 502,\n",
       " 500,\n",
       " 497,\n",
       " 496,\n",
       " 494,\n",
       " 499,\n",
       " 495,\n",
       " 492,\n",
       " 493,\n",
       " 537,\n",
       " 490,\n",
       " 487,\n",
       " 489,\n",
       " 491,\n",
       " 483,\n",
       " 486,\n",
       " 488,\n",
       " 481,\n",
       " 482,\n",
       " 484,\n",
       " 478,\n",
       " 480,\n",
       " 479,\n",
       " 534,\n",
       " 535,\n",
       " 532,\n",
       " 531,\n",
       " 528,\n",
       " 524,\n",
       " 529,\n",
       " 530,\n",
       " 523,\n",
       " 525,\n",
       " 526,\n",
       " 519,\n",
       " 521,\n",
       " 515,\n",
       " 485,\n",
       " 513,\n",
       " 476,\n",
       " 477,\n",
       " 473,\n",
       " 474,\n",
       " 475,\n",
       " 509,\n",
       " 471,\n",
       " 472,\n",
       " 470,\n",
       " 469,\n",
       " 468,\n",
       " 631,\n",
       " 632,\n",
       " 467,\n",
       " 466,\n",
       " 465,\n",
       " 464,\n",
       " 463,\n",
       " 640,\n",
       " 462,\n",
       " 461,\n",
       " 460,\n",
       " 455,\n",
       " 458,\n",
       " 457,\n",
       " 459,\n",
       " 456,\n",
       " 453,\n",
       " 454,\n",
       " 710,\n",
       " 452,\n",
       " 30,\n",
       " 29,\n",
       " 451,\n",
       " 26,\n",
       " 21,\n",
       " 23,\n",
       " 15,\n",
       " 450,\n",
       " 27,\n",
       " 28,\n",
       " 17,\n",
       " 22,\n",
       " 8,\n",
       " 14,\n",
       " 449,\n",
       " 24,\n",
       " 25]"
      ]
     },
     "execution_count": 14,
     "metadata": {},
     "output_type": "execute_result"
    }
   ],
   "source": [
    "top200 = pd.read_csv(\"../../data/100YeastGenomesCombinedHardMasked.gtet300bps.k300.graph.dot-100YeastGenomesCombinedHardMasked.gtet300bps.fna-a0.8-kp0-sup5-sz1-limit200.topfrs.txt\", header = None)\n",
    "top200int = [int(top) for top in top200[0].values]\n",
    "top200int"
   ]
  },
  {
   "cell_type": "markdown",
   "metadata": {},
   "source": [
    "## Exploratory Data Analysis"
   ]
  },
  {
   "cell_type": "code",
   "execution_count": 19,
   "metadata": {},
   "outputs": [],
   "source": [
    "from sklearn.cluster import KMeans\n",
    "import matplotlib.pyplot as plt"
   ]
  },
  {
   "cell_type": "code",
   "execution_count": 20,
   "metadata": {},
   "outputs": [],
   "source": [
    "y_pred = KMeans(n_clusters=2, random_state=0).fit_predict(dfPivot)"
   ]
  },
  {
   "cell_type": "code",
   "execution_count": 21,
   "metadata": {},
   "outputs": [
    {
     "data": {
      "text/plain": [
       "array([1, 1, 1, 1, 1, 1, 1, 0, 1, 0, 1, 1, 0, 1, 0, 1, 1, 1, 1, 1, 0, 1, 1,\n",
       "       1, 0, 1, 1, 1, 0, 1, 1, 1, 0, 1, 0, 1, 1, 1, 1, 1, 1, 0, 0, 1, 0, 1,\n",
       "       1, 0, 1, 1, 1, 0, 0, 0, 1, 1, 1, 1, 0, 0, 1, 1, 1, 1, 1, 0, 0, 0, 1,\n",
       "       1, 0, 0, 1, 1, 1, 1, 0, 1, 1, 0, 0, 0, 1, 1, 1, 1, 1, 0, 1, 1, 0, 1,\n",
       "       1, 0, 0, 0, 1, 1, 0, 1], dtype=int32)"
      ]
     },
     "execution_count": 21,
     "metadata": {},
     "output_type": "execute_result"
    }
   ],
   "source": [
    "y_pred"
   ]
  },
  {
   "cell_type": "code",
   "execution_count": null,
   "metadata": {},
   "outputs": [],
   "source": []
  },
  {
   "cell_type": "code",
   "execution_count": 22,
   "metadata": {},
   "outputs": [],
   "source": [
    "from sklearn.decomposition import PCA"
   ]
  },
  {
   "cell_type": "code",
   "execution_count": 23,
   "metadata": {},
   "outputs": [],
   "source": [
    "pca = PCA(n_components=2)"
   ]
  },
  {
   "cell_type": "code",
   "execution_count": 24,
   "metadata": {},
   "outputs": [
    {
     "data": {
      "text/plain": [
       "PCA(copy=True, iterated_power='auto', n_components=2, random_state=None,\n",
       "  svd_solver='auto', tol=0.0, whiten=False)"
      ]
     },
     "execution_count": 24,
     "metadata": {},
     "output_type": "execute_result"
    }
   ],
   "source": [
    "pca.fit(dfPivot)"
   ]
  },
  {
   "cell_type": "code",
   "execution_count": 25,
   "metadata": {},
   "outputs": [
    {
     "name": "stdout",
     "output_type": "stream",
     "text": [
      "[ 0.84640149  0.0673585 ]\n"
     ]
    }
   ],
   "source": [
    "print(pca.explained_variance_ratio_)"
   ]
  },
  {
   "cell_type": "code",
   "execution_count": 26,
   "metadata": {},
   "outputs": [
    {
     "name": "stdout",
     "output_type": "stream",
     "text": [
      "[[  4.24602759e-02   4.24757357e-02   4.24911955e-02 ...,   7.08366438e-05\n",
      "   -5.01252942e-05   7.30652650e-05]\n",
      " [  7.04198427e-03   7.02803589e-03   7.01408751e-03 ...,  -9.72046770e-06\n",
      "   -2.09355609e-04  -1.61249242e-04]]\n"
     ]
    }
   ],
   "source": [
    "print(pca.components_)"
   ]
  },
  {
   "cell_type": "code",
   "execution_count": 27,
   "metadata": {},
   "outputs": [],
   "source": [
    "X = dfPivot\n",
    "X_pca = pca.transform(dfPivot)"
   ]
  },
  {
   "cell_type": "code",
   "execution_count": 28,
   "metadata": {},
   "outputs": [
    {
     "data": {
      "image/png": "[encoded data removed]",
      "text/plain": [
       "<matplotlib.figure.Figure at 0x12d897978>"
      ]
     },
     "metadata": {},
     "output_type": "display_data"
    }
   ],
   "source": [
    "#X_new = pca.inverse_transform(X_pca)\n",
    "#plt.scatter(X[:, 0], X[:, 1], alpha=0.2)\n",
    "plt.scatter(X_pca[:, 0], X_pca[:, 1], alpha=0.8, c=y_pred)\n",
    "plt.axis('equal');"
   ]
  },
  {
   "cell_type": "code",
   "execution_count": 29,
   "metadata": {},
   "outputs": [
    {
     "data": {
      "text/plain": [
       "(array([  4.61300000e+03,   6.00000000e+00,   1.50000000e+01,\n",
       "          6.00000000e+00,   9.00000000e+00,   1.00000000e+01,\n",
       "          4.00000000e+00,   3.00000000e+00,   3.00000000e+01,\n",
       "          5.34000000e+02]),\n",
       " array([-0.00208951,  0.00252581,  0.00714112,  0.01175643,  0.01637174,\n",
       "         0.02098705,  0.02560236,  0.03021767,  0.03483298,  0.03944829,\n",
       "         0.04406361]),\n",
       " <a list of 10 Patch objects>)"
      ]
     },
     "execution_count": 29,
     "metadata": {},
     "output_type": "execute_result"
    },
    {
     "data": {
      "image/png": "[encoded data removed]",
      "text/plain": [
       "<matplotlib.figure.Figure at 0x12d8974e0>"
      ]
     },
     "metadata": {},
     "output_type": "display_data"
    }
   ],
   "source": [
    "plt.hist(pca.components_[0])"
   ]
  },
  {
   "cell_type": "code",
   "execution_count": 1,
   "metadata": {},
   "outputs": [
    {
     "ename": "NameError",
     "evalue": "name 'top1000' is not defined",
     "output_type": "error",
     "traceback": [
      "\u001b[0;31m---------------------------------------------------------------------------\u001b[0m",
      "\u001b[0;31mNameError\u001b[0m                                 Traceback (most recent call last)",
      "\u001b[0;32m<ipython-input-1-97cd0146f861>\u001b[0m in \u001b[0;36m<module>\u001b[0;34m()\u001b[0m\n\u001b[0;32m----> 1\u001b[0;31m \u001b[0mtop1000\u001b[0m\u001b[0;34m\u001b[0m\u001b[0m\n\u001b[0m",
      "\u001b[0;31mNameError\u001b[0m: name 'top1000' is not defined"
     ]
    }
   ],
   "source": [
    "top1000"
   ]
  },
  {
   "cell_type": "code",
   "execution_count": 10,
   "metadata": {},
   "outputs": [],
   "source": [
    "import pickle\n",
    "import pandas as pd"
   ]
  },
  {
   "cell_type": "code",
   "execution_count": 3,
   "metadata": {},
   "outputs": [],
   "source": [
    "file = open(\"frDf.pkl\",'rb')\n",
    "frdf = pickle.load(file)\n",
    "file.close()"
   ]
  },
  {
   "cell_type": "code",
   "execution_count": 7,
   "metadata": {},
   "outputs": [],
   "source": [
    "fr_set = set(frdf.index)"
   ]
  },
  {
   "cell_type": "code",
   "execution_count": 28,
   "metadata": {},
   "outputs": [],
   "source": [
    "pheno_strains = pd.read_csv('pheno_strains.csv')\n",
    "pheno_set = set([x.lower() for x in pheno_strains['STRAIN']])"
   ]
  },
  {
   "cell_type": "code",
   "execution_count": 36,
   "metadata": {},
   "outputs": [],
   "source": [
    "origins = pd.read_csv('origins.csv')"
   ]
  },
  {
   "cell_type": "code",
   "execution_count": 37,
   "metadata": {},
   "outputs": [],
   "source": [
    "or_set = set([x.lower() for x in origins['strain']])"
   ]
  },
  {
   "cell_type": "code",
   "execution_count": 38,
   "metadata": {},
   "outputs": [
    {
     "name": "stdout",
     "output_type": "stream",
     "text": [
      "100\n",
      "100\n",
      "100\n"
     ]
    }
   ],
   "source": [
    "print(len(fr_set))\n",
    "print(len(or_set))\n",
    "print(len(pheno_set))"
   ]
  },
  {
   "cell_type": "code",
   "execution_count": 39,
   "metadata": {},
   "outputs": [
    {
     "data": {
      "text/plain": [
       "{'yjm1443', 'yjm1615'}"
      ]
     },
     "execution_count": 39,
     "metadata": {},
     "output_type": "execute_result"
    }
   ],
   "source": [
    "fr_set.difference(or_set)"
   ]
  },
  {
   "cell_type": "code",
   "execution_count": 43,
   "metadata": {},
   "outputs": [
    {
     "data": {
      "text/plain": [
       "{'yjm1628', 'yjm1869'}"
      ]
     },
     "execution_count": 43,
     "metadata": {},
     "output_type": "execute_result"
    }
   ],
   "source": [
    "or_set.difference(fr_set)"
   ]
  },
  {
   "cell_type": "code",
   "execution_count": 42,
   "metadata": {},
   "outputs": [
    {
     "data": {
      "text/plain": [
       "{'yjm1250', 'yjm1388', 'yjm1419', 'yjm1433'}"
      ]
     },
     "execution_count": 42,
     "metadata": {},
     "output_type": "execute_result"
    }
   ],
   "source": [
    "or_set.difference(pheno_set)"
   ]
  },
  {
   "cell_type": "code",
   "execution_count": 44,
   "metadata": {},
   "outputs": [
    {
     "data": {
      "text/plain": [
       "{'yjm1250', 'yjm1388', 'yjm1419', 'yjm1433', 'yjm1615'}"
      ]
     },
     "execution_count": 44,
     "metadata": {},
     "output_type": "execute_result"
    }
   ],
   "source": [
    "fr_set.difference(pheno_set)"
   ]
  },
  {
   "cell_type": "code",
   "execution_count": 45,
   "metadata": {},
   "outputs": [
    {
     "data": {
      "text/plain": [
       "{'yjm1628', 'yjm1846', 'yjm1847', 'yjm1869', 'yjm1870'}"
      ]
     },
     "execution_count": 45,
     "metadata": {},
     "output_type": "execute_result"
    }
   ],
   "source": [
    "pheno_set.difference(fr_set)"
   ]
  },
  {
   "cell_type": "code",
   "execution_count": 50,
   "metadata": {},
   "outputs": [],
   "source": [
    "origins.index = [x.lower() for x in origins['strain']]"
   ]
  },
  {
   "cell_type": "code",
   "execution_count": 54,
   "metadata": {},
   "outputs": [],
   "source": [
    "data = origins.join(frdf, how='inner').shape"
   ]
  }
 ],
 "metadata": {
  "kernelspec": {
   "display_name": "Python 3",
   "language": "python",
   "name": "python3"
  },
  "language_info": {
   "codemirror_mode": {
    "name": "ipython",
    "version": 3
   },
   "file_extension": ".py",
   "mimetype": "text/x-python",
   "name": "python",
   "nbconvert_exporter": "python",
   "pygments_lexer": "ipython3",
   "version": "3.6.5"
  }
 },
 "nbformat": 4,
 "nbformat_minor": 2
}
